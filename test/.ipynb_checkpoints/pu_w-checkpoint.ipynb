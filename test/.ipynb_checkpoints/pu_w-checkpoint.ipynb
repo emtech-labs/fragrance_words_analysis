{
 "cells": [
  {
   "cell_type": "code",
   "execution_count": 6,
   "metadata": {},
   "outputs": [],
   "source": [
    "import pandas as pd\n",
    "import csv\n",
    "import MeCab\n",
    "\n",
    "# 抽出したメタの重複を削除する\n",
    "metaw_file = '../data/dic_candidate_raw.csv'\n",
    "\n",
    "w_df = pd.read_csv(metaw_file, header=None)\n",
    "wordlist_r = w_df.values.tolist()\n",
    "\n",
    "wordlist_1d = []\n",
    "for n,w in enumerate(wordlist_r):\n",
    "    wordlist_1d.append(wordlist_r[n][0])\n",
    "    \n",
    "wordlist_reg = list(set(wordlist_1d))"
   ]
  },
  {
   "cell_type": "code",
   "execution_count": 33,
   "metadata": {},
   "outputs": [],
   "source": [
    "# 重複したメタを形態素解析用のCSVファイルに書き込む\n",
    "with open('../data/match_word_dict.csv', 'w') as f:\n",
    "    writer = csv.writer(f)\n",
    "    writer.writerow(wordlist_reg)"
   ]
  },
  {
   "cell_type": "code",
   "execution_count": 7,
   "metadata": {},
   "outputs": [
    {
     "data": {
      "text/plain": [
       "\"\\nfor s in s_df['description']:\\n    for w in wordlist_reg:\\n        if w in s:\\n\""
      ]
     },
     "execution_count": 7,
     "metadata": {},
     "output_type": "execute_result"
    }
   ],
   "source": [
    "# 形態素解析してみる\n",
    "# 厳密にはリストに登録されている単語とマッチさせるだけ\n",
    "\n",
    "sentence_file = '../data/perfume_sentence.tsv'\n",
    "\n",
    "s_df = pd.read_table(sentence_file)\n",
    "\n",
    "sentence = s_df['description']\n",
    "\n",
    "'''\n",
    "for s in s_df['description']:\n",
    "    for w in wordlist_reg:\n",
    "        if w in s:\n",
    "'''"
   ]
  },
  {
   "cell_type": "code",
   "execution_count": 5,
   "metadata": {},
   "outputs": [],
   "source": []
  },
  {
   "cell_type": "code",
   "execution_count": null,
   "metadata": {},
   "outputs": [],
   "source": []
  }
 ],
 "metadata": {
  "kernelspec": {
   "display_name": "Python 3",
   "language": "python",
   "name": "python3"
  },
  "language_info": {
   "codemirror_mode": {
    "name": "ipython",
    "version": 3
   },
   "file_extension": ".py",
   "mimetype": "text/x-python",
   "name": "python",
   "nbconvert_exporter": "python",
   "pygments_lexer": "ipython3",
   "version": "3.6.5"
  }
 },
 "nbformat": 4,
 "nbformat_minor": 4
}
