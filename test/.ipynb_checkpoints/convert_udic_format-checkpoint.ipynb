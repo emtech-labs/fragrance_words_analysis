{
 "cells": [
  {
   "cell_type": "code",
   "execution_count": 13,
   "metadata": {},
   "outputs": [],
   "source": [
    "'''\n",
    "ワードリストをユーザー辞書用フォーマットに変換してくれる\n",
    "MeCabのユーザー辞書に反映してくれる\n",
    "\n",
    "ToDo:\n",
    "- 一応動くけどユニークな単語のリストを入力しても、なぜか辞書には単語が重複して登録されている。なぜ…。\n",
    "- mecab-dict-indexでdicに変換しようとすると ...cannot find LEFT-ID... というエラーが出る。名詞,一般,*,...の並びでエラーが出るので、*を一般に登録する必要がある。 https://qiita.com/tekunikaruza/items/2cb5eff7066b7715510e\n",
    "    - 上記エラーの原因はカラム数だった。14→20に直したら解決した。なので、下記のコードを20カラムに修正する必要がある(2020/09/01)\n",
    "'''\n",
    "\n",
    "import csv\n",
    "import pandas as pd\n",
    "\n",
    "def make_worddict(\n",
    "    word,\n",
    "    score1='-1',\n",
    "    score2='-1',\n",
    "    pos='名詞',\n",
    "    pos_datail='一般',\n",
    "    normalization=None,\n",
    "    abstraction=None,\n",
    "    category1='*',\n",
    "    interpretation='*',\n",
    "    category2='*',\n",
    "    attribute='*',\n",
    "    category3='*'):\n",
    "\n",
    "\n",
    "    # ユーザー辞書のフォーマットを作り、初期値を設定する。\n",
    "    # output：{'カラム名':ワードor属性}な辞書\n",
    "\n",
    "    newword_dic = {}\n",
    "    newword_dic['word'] = word\n",
    "    newword_dic['score1'] = score1\n",
    "    newword_dic['score2'] = score2\n",
    "    newword_dic['weight'] = len(word)*(-100)\n",
    "    newword_dic['pos'] = pos\n",
    "    newword_dic['pos_datail'] = pos_datail\n",
    "    if normalization is None:\n",
    "        newword_dic['normalization']=word\n",
    "    else:\n",
    "        newword_dic['normalization']=normalization\n",
    "    if abstraction is None:\n",
    "        newword_dic['abstraction']=word\n",
    "    else:\n",
    "        newword_dic['abstraction']=normalization\n",
    "    newword_dic['category1']=category1\n",
    "    newword_dic['interpretation']=interpretation\n",
    "    newword_dic['category2']=category2\n",
    "    newword_dic['attribute']=attribute\n",
    "    newword_dic['category3']=category3\n",
    "\n",
    "    return newword_dic"
   ]
  },
  {
   "cell_type": "code",
   "execution_count": 14,
   "metadata": {},
   "outputs": [],
   "source": [
    "def output_str(newword_dic):\n",
    "    # ユーザー辞書に出力するカラムを調整する。\n",
    "    # newword_dicのkeyから必要なカラムだけを指定してkey_order[]に追加。\n",
    "    # output:指定されたキーの値のリスト\n",
    "\n",
    "    key_order=['word',\n",
    "    'score1',\n",
    "    'score2',\n",
    "    'weight',\n",
    "    'pos',\n",
    "    'pos_datail',\n",
    "    'normalization',\n",
    "    'abstraction',\n",
    "    'category1',\n",
    "    'interpretation',\n",
    "    'category2',\n",
    "    'attribute',\n",
    "    'category3']\n",
    "\n",
    "    newword_list=[]\n",
    "    for k in key_order:\n",
    "        newword_list.append(newword_dic[k])\n",
    "\n",
    "    return newword_list"
   ]
  },
  {
   "cell_type": "code",
   "execution_count": 17,
   "metadata": {},
   "outputs": [],
   "source": [
    "def convert(addwords):\n",
    "    # output:登録ワードをユーザー辞書の形式に合わせたCSV\n",
    "\n",
    "    f = open('../data/user_dic.csv', 'w', encoding='utf-8')\n",
    "    writer = csv.writer(f, lineterminator='\\n')\n",
    "    for w in addwords:\n",
    "        nworddic=make_worddict(w)\n",
    "        outputlist=output_str(nworddic)\n",
    "        writer.writerow(outputlist)\n",
    "\n",
    "    f.close()"
   ]
  },
  {
   "cell_type": "code",
   "execution_count": 18,
   "metadata": {},
   "outputs": [
    {
     "name": "stdout",
     "output_type": "stream",
     "text": [
      "['お出かけ', '-1', '-1', -400, '名詞', '一般', 'お出かけ', 'お出かけ', '*', '*', '*', '*', '*']\n",
      "output: ../data/user_dic.csv\n"
     ]
    }
   ],
   "source": [
    "if __name__=='__main__':\n",
    "\n",
    "    addw_fn = '../data/dic_candidate_raw.csv'\n",
    "    addwords = []\n",
    "\n",
    "    with open(addw_fn) as f:\n",
    "        reader = csv.reader(f)\n",
    "        for w in reader:\n",
    "            #print(w[0])\n",
    "            addwords.append(w[0])\n",
    "        #print(addwords)\n",
    "        convert(addwords)\n",
    "    print('output: ../data/user_dic.csv')"
   ]
  },
  {
   "cell_type": "code",
   "execution_count": null,
   "metadata": {},
   "outputs": [],
   "source": []
  }
 ],
 "metadata": {
  "kernelspec": {
   "display_name": "Python 3",
   "language": "python",
   "name": "python3"
  },
  "language_info": {
   "codemirror_mode": {
    "name": "ipython",
    "version": 3
   },
   "file_extension": ".py",
   "mimetype": "text/x-python",
   "name": "python",
   "nbconvert_exporter": "python",
   "pygments_lexer": "ipython3",
   "version": "3.6.5"
  }
 },
 "nbformat": 4,
 "nbformat_minor": 4
}
