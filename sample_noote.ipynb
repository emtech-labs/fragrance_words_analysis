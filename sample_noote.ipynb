{
 "cells": [
  {
   "cell_type": "code",
   "execution_count": 4,
   "metadata": {},
   "outputs": [
    {
     "data": {
      "text/plain": [
       "'ウルトラマンタイガ\\tウルトラマンタイガ\\tウルトラマンタイガ\\t名詞-固有名詞-一般\\t\\t\\nEOS\\n'"
      ]
     },
     "execution_count": 4,
     "metadata": {},
     "output_type": "execute_result"
    }
   ],
   "source": [
    "import MeCab\n",
    "tagger = MeCab.Tagger(\"-Ochasen -d /usr/lib/x86_64-linux-gnu/mecab/dic/mecab-ipadic-neologd\")\n",
    "tagger.parse(\"\")\n",
    "tagger.parse(\"ウルトラマンタイガ\")"
   ]
  },
  {
   "cell_type": "code",
   "execution_count": 2,
   "metadata": {},
   "outputs": [
    {
     "name": "stdout",
     "output_type": "stream",
     "text": [
      "/usr/lib/x86_64-linux-gnu/mecab/dic/mecab-ipadic-neologd\n",
      "/mecab-ipadic-neologd\n",
      "/mecab-ipadic-neologd/seed/neologd-adverb-dict-seed.20150623.csv.xz\n",
      "/mecab-ipadic-neologd/seed/neologd-ill-formed-words-dict-seed.20170127.csv.xz\n",
      "/mecab-ipadic-neologd/seed/neologd-adjective-verb-dict-seed.20160324.csv.xz\n",
      "/mecab-ipadic-neologd/seed/neologd-adjective-std-dict-seed.20151126.csv.xz\n",
      "/mecab-ipadic-neologd/seed/neologd-common-noun-ortho-variant-dict-seed.20170228.csv.xz\n",
      "/mecab-ipadic-neologd/seed/neologd-quantity-infreq-dict-seed.20190415.csv.xz\n",
      "/mecab-ipadic-neologd/seed/neologd-interjection-dict-seed.20170216.csv.xz\n",
      "/mecab-ipadic-neologd/seed/neologd-adjective-exp-dict-seed.20151126.csv.xz\n",
      "/mecab-ipadic-neologd/seed/neologd-noun-sahen-conn-ortho-variant-dict-seed.20160323.csv.xz\n",
      "/mecab-ipadic-neologd/seed/neologd-proper-noun-ortho-variant-dict-seed.20161110.csv.xz\n",
      "/mecab-ipadic-neologd/seed/neologd-date-time-infreq-dict-seed.20190415.csv.xz\n",
      "/mecab-ipadic-neologd/libexec/install-mecab-ipadic-neologd.sh\n",
      "/mecab-ipadic-neologd/libexec/make-mecab-ipadic-neologd.sh\n",
      "/mecab-ipadic-neologd/libexec/test-mecab-ipadic-neologd.sh\n",
      "/mecab-ipadic-neologd/build/mecab-ipadic-2.7.0-20070801-neologd-20200813\n",
      "/mecab-ipadic-neologd/build/mecab-ipadic-2.7.0-20070801-neologd-20200813/neologd-adverb-dict-seed.20150623.csv\n",
      "/mecab-ipadic-neologd/build/mecab-ipadic-2.7.0-20070801-neologd-20200813/neologd-adjective-std-dict-seed.20151126.csv\n",
      "/mecab-ipadic-neologd/build/mecab-ipadic-2.7.0-20070801-neologd-20200813/neologd-proper-noun-ortho-variant-dict-seed.20161110.csv\n",
      "/mecab-ipadic-neologd/build/mecab-ipadic-2.7.0-20070801-neologd-20200813/neologd-interjection-dict-seed.20170216.csv\n",
      "/mecab-ipadic-neologd/build/mecab-ipadic-2.7.0-20070801-neologd-20200813/neologd-noun-sahen-conn-ortho-variant-dict-seed.20160323.csv\n",
      "/mecab-ipadic-neologd/build/mecab-ipadic-2.7.0-20070801-neologd-20200813/neologd-common-noun-ortho-variant-dict-seed.20170228.csv\n",
      "/mecab-ipadic-neologd/build/mecab-ipadic-2.7.0-20070801-neologd-20200813/neologd-adjective-verb-dict-seed.20160324.csv\n",
      "/mecab-ipadic-neologd/build/mecab-ipadic-2.7.0-20070801-neologd-20200813/neologd-ill-formed-words-dict-seed.20170127.csv\n",
      "/mecab-ipadic-neologd/bin/install-mecab-ipadic-neologd\n"
     ]
    }
   ],
   "source": [
    "!find / -name *neologd*"
   ]
  },
  {
   "cell_type": "code",
   "execution_count": null,
   "metadata": {},
   "outputs": [],
   "source": []
  }
 ],
 "metadata": {
  "kernelspec": {
   "display_name": "Python 3",
   "language": "python",
   "name": "python3"
  },
  "language_info": {
   "codemirror_mode": {
    "name": "ipython",
    "version": 3
   },
   "file_extension": ".py",
   "mimetype": "text/x-python",
   "name": "python",
   "nbconvert_exporter": "python",
   "pygments_lexer": "ipython3",
   "version": "3.6.12"
  }
 },
 "nbformat": 4,
 "nbformat_minor": 4
}
